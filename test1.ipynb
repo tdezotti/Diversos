<html>
<head>
<title>tmpnb</title>
<link rel="stylesheet" href="https://maxcdn.bootstrapcdn.com/bootstrap/3.2.0/css/bootstrap.min.css">
<link rel="stylesheet" href="https://maxcdn.bootstrapcdn.com/bootstrap/3.2.0/css/bootstrap-theme.min.css">
</head>
<body>
<div class="jumbotron">
<div id="main" class="container text-center">
<h1>tmpnb</h1>
<div id="message">
<noscript>
<p>You'll need JavaScript enabled to enjoy this site!</p>
</noscript>
<div id="websockets-ok">

<p>The server you requested is no longer running or it doesn't exist.</p>

<p>Starting a new notebook server, just for you...<p>
</div>
<div id="websockets-uhoh" style="display:none;">
<p>Uh oh. Either your network does not allow WebSockets (needed to communicate with IPython) or your browser is unsupported. Please use:</p>
<ul style="list-style: none;">
<li>Chrome ≥ 13</li>
<li>Safari ≥ 5</li>
<li>Firefox ≥ 6</li>
</ul>
</p>Thanks!</p>
</div>
</div>
</div>
</div>
<script>
(function(i,s,o,g,r,a,m){i['GoogleAnalyticsObject']=r;i[r]=i[r]||function(){
(i[r].q=i[r].q||[]).push(arguments)},i[r].l=1*new Date();a=s.createElement(o),
m=s.getElementsByTagName(o)[0];a.async=1;a.src=g;m.parentNode.insertBefore(a,m)
})(window,document,'script','//www.google-analytics.com/analytics.js','ga');
ga('create', 'UA-56096826-1', 'auto');
ga('require', 'displayfeatures');
ga('send', 'pageview');
</script>

<script type="text/javascript">
if (window.WebSocket && new WebSocket("wss://echo.websocket.net")) {
window.location = "/spawn" + window.location.pathname;
} else {
ok = document.getElementById("websocket-ok");
ok.style.display = 'none';
uhoh = document.getElementById("websocket-uhoh");
uhoh.style.display = 'block';
}
</script>
</body>
</html>
